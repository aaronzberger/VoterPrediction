{
 "cells": [
  {
   "attachments": {},
   "cell_type": "markdown",
   "metadata": {},
   "source": [
    "### Problem Statement\n",
    "\n",
    "Included under Milestone 3 — \"Project Question and Model\""
   ]
  },
  {
   "attachments": {},
   "cell_type": "markdown",
   "metadata": {},
   "source": [
    "### Explore and Visualize Data"
   ]
  },
  {
   "attachments": {},
   "cell_type": "markdown",
   "metadata": {},
   "source": [
    "Included in EDA.ipynb"
   ]
  },
  {
   "attachments": {},
   "cell_type": "markdown",
   "metadata": {},
   "source": [
    "### Baseline Model"
   ]
  },
  {
   "cell_type": "code",
   "execution_count": 17,
   "metadata": {},
   "outputs": [],
   "source": [
    "# Imports\n",
    "import seaborn as sns\n",
    "import matplotlib.pyplot as plt\n",
    "import pandas as pd\n",
    "import numpy as np\n",
    "from sklearn.model_selection import train_test_split\n",
    "from sklearn.linear_model import LinearRegression\n",
    "from sklearn.neighbors import KNeighborsRegressor\n",
    "from sklearn.decomposition import PCA\n",
    "from sklearn.model_selection import cross_validate\n",
    "from sklearn.preprocessing import StandardScaler\n",
    "from sklearn.metrics import r2_score\n",
    "from sklearn.impute import SimpleImputer, KNNImputer\n",
    "from scipy.stats import entropy\n",
    "import seaborn as sns\n",
    "from sklearn.metrics import mean_squared_error, r2_score\n",
    "from datetime import datetime, timedelta\n",
    "import re\n",
    "import matplotlib.ticker as mtick"
   ]
  },
  {
   "cell_type": "code",
   "execution_count": 18,
   "metadata": {},
   "outputs": [
    {
     "name": "stdout",
     "output_type": "stream",
     "text": [
      "Index(['DOB', 'Registration Date', 'Voter Status', 'Status Change Date',\n",
      "       'Date Last Changed', 'Gender M', 'Gender F', 'Gender U', 'Party D',\n",
      "       'Party R',\n",
      "       ...\n",
      "       'Election 01/03/2006 Party R', 'Election 01/03/2006 Party I',\n",
      "       'Election 01/03/2006 Voted', 'Election 01/03/2006 By Mail',\n",
      "       'Election 09/09/2008 Presence', 'Election 09/09/2008 Party D',\n",
      "       'Election 09/09/2008 Party R', 'Election 09/09/2008 Party I',\n",
      "       'Election 09/09/2008 Voted', 'Election 09/09/2008 By Mail'],\n",
      "      dtype='object', length=511)\n"
     ]
    }
   ],
   "source": [
    "df = pd.read_csv('processed_data/pa_data_all_elections_sample.csv')\n",
    "df.head()\n",
    "print(df.columns)\n"
   ]
  },
  {
   "cell_type": "code",
   "execution_count": 23,
   "metadata": {},
   "outputs": [],
   "source": [
    "import pandas as pd\n",
    "import matplotlib.pyplot as plt\n",
    "import seaborn as sns\n",
    "from sklearn.model_selection import train_test_split\n",
    "from sklearn.impute import SimpleImputer\n",
    "from sklearn.linear_model import LinearRegression\n",
    "from sklearn.metrics import mean_squared_error\n",
    "import statsmodels.api as sm\n",
    "\n",
    "# Define election_columns\n",
    "election_columns = [col for col in df.columns if col.startswith('Election')]\n",
    "\n",
    "X = df.drop(election_columns, axis=1)\n",
    "all_residuals = {}\n",
    "all_predictions = {}\n",
    "\n",
    "for election_col in election_columns:\n",
    "    y = df[election_col]\n",
    "\n",
    "    # Impute NaN values in y using mean imputation\n",
    "    imputer = SimpleImputer(strategy='mean')\n",
    "    y_imputed = imputer.fit_transform(y.values.reshape(-1, 1)).ravel()\n",
    "\n",
    "    # Splitting the data\n",
    "    X_train, X_temp, y_train, y_temp = train_test_split(X, y_imputed, test_size=0.3, random_state=42)\n",
    "    X_val, X_test, y_val, y_test = train_test_split(X_temp, y_temp, test_size=0.5, random_state=42)\n",
    "\n",
    "    # Linear regression model\n",
    "    model = LinearRegression()\n",
    "    model.fit(X_train, y_train)\n",
    "    test_predictions = model.predict(X_test)\n",
    "    mse = mean_squared_error(y_test, test_predictions)\n",
    "    print(f\"Mean Squared Error on testing set for {election_col}: {mse}\")\n",
    "\n",
    "    # OLS model\n",
    "    model_ols = sm.OLS(y_train, sm.add_constant(X_train)).fit()\n",
    "    predictions = model_ols.predict(sm.add_constant(X_train))\n",
    "    residuals = y_train - predictions\n",
    "\n",
    "    # Store residuals and predictions for each election column\n",
    "    all_residuals[election_col] = residuals\n",
    "    all_predictions[election_col] = predictions\n",
    "\n",
    "# Now, you can plot the residuals vs. fitted values for each election column separately\n",
    "for election_col in election_columns:\n",
    "    sns.scatterplot(x=all_predictions[election_col], y=all_residuals[election_col])\n",
    "    plt.axhline(y=0, color='r', linestyle='--')\n",
    "    plt.xlabel('Predicted Values')\n",
    "    plt.ylabel('Residuals')\n",
    "    plt.title(f'Residuals vs. Predicted Values for {election_col}')\n",
    "    plt.show()\n",
    "\n"
   ]
  },
  {
   "cell_type": "code",
   "execution_count": null,
   "metadata": {},
   "outputs": [],
   "source": [
    "import statsmodels.api as sm\n",
    "import matplotlib.pyplot as plt\n",
    "import seaborn as sns\n",
    "from sklearn.impute import SimpleImputer\n",
    "\n",
    "# Define election_columns\n",
    "election_columns = [col for col in df.columns if 'Election' in col and 'Voted' in col]\n",
    "\n",
    "# List to store residuals and predictions from all models\n",
    "all_residuals = []\n",
    "all_predictions = []\n",
    "\n",
    "# Assuming df is your DataFrame containing the election columns\n",
    "for target_col in election_columns:\n",
    "    X = df.drop(target_col, axis=1)\n",
    "    y = df[target_col]\n",
    "\n",
    "    # Impute NaN values in X and y using mean imputation\n",
    "    imputer = SimpleImputer(strategy='mean')\n",
    "    X_imputed = imputer.fit_transform(X)\n",
    "    y_imputed = imputer.fit_transform(y.values.reshape(-1, 1)).ravel()\n",
    "\n",
    "    # Fit OLS model on entire dataset (excluding the held-out column)\n",
    "    final_model = sm.OLS(y_imputed, sm.add_constant(X_imputed))\n",
    "    final_results = final_model.fit()\n",
    "\n",
    "    # Generate predictions and residuals\n",
    "    predictions = final_results.predict(sm.add_constant(X_imputed))\n",
    "    residuals = y_imputed - predictions\n",
    "\n",
    "    # Store results for the final plot\n",
    "    all_residuals.extend(residuals)\n",
    "    all_predictions.extend(predictions)\n",
    "\n",
    "# Plotting the combined residuals vs. fitted values for all election columns\n",
    "sns.scatterplot(x=all_predictions, y=all_residuals)\n",
    "plt.axhline(y=0, color='r', linestyle='--')\n",
    "plt.xlabel('Predicted Values')\n",
    "plt.ylabel('Residuals')\n",
    "plt.title('Combined Residuals vs. Predicted Values for All Election Columns')\n",
    "plt.show()\n"
   ]
  },
  {
   "attachments": {},
   "cell_type": "markdown",
   "metadata": {},
   "source": [
    "### Results Interpretation"
   ]
  },
  {
   "attachments": {},
   "cell_type": "markdown",
   "metadata": {},
   "source": [
    "### Final Model Pipeline"
   ]
  }
 ],
 "metadata": {
  "kernelspec": {
   "display_name": "Python 3",
   "language": "python",
   "name": "python3"
  },
  "language_info": {
   "codemirror_mode": {
    "name": "ipython",
    "version": 3
   },
   "file_extension": ".py",
   "mimetype": "text/x-python",
   "name": "python",
   "nbconvert_exporter": "python",
   "pygments_lexer": "ipython3",
   "version": "3.11.5"
  },
  "orig_nbformat": 4
 },
 "nbformat": 4,
 "nbformat_minor": 2
}
